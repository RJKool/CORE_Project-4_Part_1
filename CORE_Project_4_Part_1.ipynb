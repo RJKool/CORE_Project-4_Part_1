{
 "cells": [
  {
   "cell_type": "code",
   "execution_count": 8,
   "id": "9fc36a3a",
   "metadata": {},
   "outputs": [],
   "source": [
    "import pandas as pd\n",
    "import matplotlib.pyplot as plt\n",
    "import seaborn as sns"
   ]
  },
  {
   "cell_type": "code",
   "execution_count": 9,
   "id": "b5217596",
   "metadata": {
    "scrolled": true
   },
   "outputs": [
    {
     "name": "stdout",
     "output_type": "stream",
     "text": [
      "Collecting holidays\n",
      "  Using cached holidays-0.32-py3-none-any.whl (754 kB)\n",
      "Requirement already satisfied: python-dateutil in c:\\users\\rashad\\anaconda3\\envs\\dojo-env\\lib\\site-packages (from holidays) (2.8.2)\n",
      "Requirement already satisfied: six>=1.5 in c:\\users\\rashad\\anaconda3\\envs\\dojo-env\\lib\\site-packages (from python-dateutil->holidays) (1.16.0)\n",
      "Installing collected packages: holidays\n",
      "Successfully installed holidays-0.32\n"
     ]
    }
   ],
   "source": [
    "!pip install holidays"
   ]
  },
  {
   "cell_type": "code",
   "execution_count": 10,
   "id": "8944dd3e",
   "metadata": {},
   "outputs": [],
   "source": [
    "import holidays\n",
    "import datetime as dt\n",
    "from holidays import country_holidays"
   ]
  },
  {
   "cell_type": "markdown",
   "id": "57c338a8",
   "metadata": {},
   "source": [
    "# The below dataset represents crimes that happened in Chicago for the year 2020."
   ]
  },
  {
   "cell_type": "code",
   "execution_count": 2,
   "id": "ccdb6189",
   "metadata": {
    "scrolled": true
   },
   "outputs": [
    {
     "data": {
      "text/html": [
       "<div>\n",
       "<style scoped>\n",
       "    .dataframe tbody tr th:only-of-type {\n",
       "        vertical-align: middle;\n",
       "    }\n",
       "\n",
       "    .dataframe tbody tr th {\n",
       "        vertical-align: top;\n",
       "    }\n",
       "\n",
       "    .dataframe thead th {\n",
       "        text-align: right;\n",
       "    }\n",
       "</style>\n",
       "<table border=\"1\" class=\"dataframe\">\n",
       "  <thead>\n",
       "    <tr style=\"text-align: right;\">\n",
       "      <th></th>\n",
       "      <th>ID</th>\n",
       "      <th>Date</th>\n",
       "      <th>Primary Type</th>\n",
       "      <th>Description</th>\n",
       "      <th>Location Description</th>\n",
       "      <th>Arrest</th>\n",
       "      <th>Domestic</th>\n",
       "      <th>Beat</th>\n",
       "      <th>District</th>\n",
       "      <th>Ward</th>\n",
       "      <th>Latitude</th>\n",
       "      <th>Longitude</th>\n",
       "    </tr>\n",
       "  </thead>\n",
       "  <tbody>\n",
       "    <tr>\n",
       "      <th>0</th>\n",
       "      <td>11939526</td>\n",
       "      <td>01/01/2020 01:00:00 AM</td>\n",
       "      <td>THEFT</td>\n",
       "      <td>FROM BUILDING</td>\n",
       "      <td>HOTEL/MOTEL</td>\n",
       "      <td>False</td>\n",
       "      <td>False</td>\n",
       "      <td>123</td>\n",
       "      <td>1.0</td>\n",
       "      <td>4.0</td>\n",
       "      <td>41.872709</td>\n",
       "      <td>-87.624188</td>\n",
       "    </tr>\n",
       "    <tr>\n",
       "      <th>1</th>\n",
       "      <td>11957916</td>\n",
       "      <td>01/01/2020 01:00:00 PM</td>\n",
       "      <td>DECEPTIVE PRACTICE</td>\n",
       "      <td>FINANCIAL IDENTITY THEFT OVER $ 300</td>\n",
       "      <td>OTHER</td>\n",
       "      <td>False</td>\n",
       "      <td>False</td>\n",
       "      <td>2221</td>\n",
       "      <td>22.0</td>\n",
       "      <td>21.0</td>\n",
       "      <td>41.731514</td>\n",
       "      <td>-87.661723</td>\n",
       "    </tr>\n",
       "    <tr>\n",
       "      <th>2</th>\n",
       "      <td>12001908</td>\n",
       "      <td>01/01/2020 01:00:00 AM</td>\n",
       "      <td>OFFENSE INVOLVING CHILDREN</td>\n",
       "      <td>OTHER OFFENSE</td>\n",
       "      <td>RESIDENCE</td>\n",
       "      <td>False</td>\n",
       "      <td>True</td>\n",
       "      <td>2232</td>\n",
       "      <td>22.0</td>\n",
       "      <td>34.0</td>\n",
       "      <td>41.709028</td>\n",
       "      <td>-87.654061</td>\n",
       "    </tr>\n",
       "    <tr>\n",
       "      <th>3</th>\n",
       "      <td>11944113</td>\n",
       "      <td>01/01/2020 01:00:00 PM</td>\n",
       "      <td>CRIMINAL DAMAGE</td>\n",
       "      <td>TO STATE SUP PROP</td>\n",
       "      <td>ALLEY</td>\n",
       "      <td>False</td>\n",
       "      <td>False</td>\n",
       "      <td>1532</td>\n",
       "      <td>15.0</td>\n",
       "      <td>37.0</td>\n",
       "      <td>41.892236</td>\n",
       "      <td>-87.749273</td>\n",
       "    </tr>\n",
       "    <tr>\n",
       "      <th>4</th>\n",
       "      <td>11939609</td>\n",
       "      <td>01/01/2020 01:00:00 AM</td>\n",
       "      <td>MOTOR VEHICLE THEFT</td>\n",
       "      <td>AUTOMOBILE</td>\n",
       "      <td>STREET</td>\n",
       "      <td>False</td>\n",
       "      <td>False</td>\n",
       "      <td>1634</td>\n",
       "      <td>16.0</td>\n",
       "      <td>31.0</td>\n",
       "      <td>41.939638</td>\n",
       "      <td>-87.754883</td>\n",
       "    </tr>\n",
       "  </tbody>\n",
       "</table>\n",
       "</div>"
      ],
      "text/plain": [
       "         ID                    Date                Primary Type  \\\n",
       "0  11939526  01/01/2020 01:00:00 AM                       THEFT   \n",
       "1  11957916  01/01/2020 01:00:00 PM          DECEPTIVE PRACTICE   \n",
       "2  12001908  01/01/2020 01:00:00 AM  OFFENSE INVOLVING CHILDREN   \n",
       "3  11944113  01/01/2020 01:00:00 PM             CRIMINAL DAMAGE   \n",
       "4  11939609  01/01/2020 01:00:00 AM         MOTOR VEHICLE THEFT   \n",
       "\n",
       "                           Description Location Description  Arrest  Domestic  \\\n",
       "0                        FROM BUILDING          HOTEL/MOTEL   False     False   \n",
       "1  FINANCIAL IDENTITY THEFT OVER $ 300                OTHER   False     False   \n",
       "2                        OTHER OFFENSE            RESIDENCE   False      True   \n",
       "3                    TO STATE SUP PROP                ALLEY   False     False   \n",
       "4                           AUTOMOBILE               STREET   False     False   \n",
       "\n",
       "   Beat  District  Ward   Latitude  Longitude  \n",
       "0   123       1.0   4.0  41.872709 -87.624188  \n",
       "1  2221      22.0  21.0  41.731514 -87.661723  \n",
       "2  2232      22.0  34.0  41.709028 -87.654061  \n",
       "3  1532      15.0  37.0  41.892236 -87.749273  \n",
       "4  1634      16.0  31.0  41.939638 -87.754883  "
      ]
     },
     "execution_count": 2,
     "metadata": {},
     "output_type": "execute_result"
    }
   ],
   "source": [
    "df = pd.read_csv('/Users/Rashad/Documents/GitHub/CORE_Project-4_Part_1/Data/the_stuffChicago-Crime_2020.csv')\n",
    "df.head()"
   ]
  },
  {
   "cell_type": "code",
   "execution_count": 3,
   "id": "e0db7bcd",
   "metadata": {},
   "outputs": [
    {
     "name": "stdout",
     "output_type": "stream",
     "text": [
      "<class 'pandas.core.frame.DataFrame'>\n",
      "RangeIndex: 212204 entries, 0 to 212203\n",
      "Data columns (total 12 columns):\n",
      " #   Column                Non-Null Count   Dtype  \n",
      "---  ------                --------------   -----  \n",
      " 0   ID                    212204 non-null  int64  \n",
      " 1   Date                  212204 non-null  object \n",
      " 2   Primary Type          212204 non-null  object \n",
      " 3   Description           212204 non-null  object \n",
      " 4   Location Description  210537 non-null  object \n",
      " 5   Arrest                212204 non-null  bool   \n",
      " 6   Domestic              212204 non-null  bool   \n",
      " 7   Beat                  212204 non-null  int64  \n",
      " 8   District              212204 non-null  float64\n",
      " 9   Ward                  212195 non-null  float64\n",
      " 10  Latitude              207951 non-null  float64\n",
      " 11  Longitude             207951 non-null  float64\n",
      "dtypes: bool(2), float64(4), int64(2), object(4)\n",
      "memory usage: 16.6+ MB\n"
     ]
    }
   ],
   "source": [
    "df.info()"
   ]
  },
  {
   "cell_type": "code",
   "execution_count": 11,
   "id": "6883f5a3",
   "metadata": {},
   "outputs": [
    {
     "data": {
      "text/plain": [
       "0         False\n",
       "1         False\n",
       "2         False\n",
       "3         False\n",
       "4         False\n",
       "          ...  \n",
       "212199    False\n",
       "212200    False\n",
       "212201    False\n",
       "212202    False\n",
       "212203    False\n",
       "Name: Location Description, Length: 212204, dtype: bool"
      ]
     },
     "execution_count": 11,
     "metadata": {},
     "output_type": "execute_result"
    }
   ],
   "source": [
    "df['Location Description'].isna()"
   ]
  }
 ],
 "metadata": {
  "kernelspec": {
   "display_name": "Python (dojo-env)",
   "language": "python",
   "name": "dojo-env"
  },
  "language_info": {
   "codemirror_mode": {
    "name": "ipython",
    "version": 3
   },
   "file_extension": ".py",
   "mimetype": "text/x-python",
   "name": "python",
   "nbconvert_exporter": "python",
   "pygments_lexer": "ipython3",
   "version": "3.9.15"
  },
  "toc": {
   "base_numbering": 1,
   "nav_menu": {},
   "number_sections": false,
   "sideBar": true,
   "skip_h1_title": false,
   "title_cell": "Table of Contents",
   "title_sidebar": "Contents",
   "toc_cell": false,
   "toc_position": {},
   "toc_section_display": true,
   "toc_window_display": false
  }
 },
 "nbformat": 4,
 "nbformat_minor": 5
}
